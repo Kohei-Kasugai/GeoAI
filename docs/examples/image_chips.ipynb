{
  "cells": [
    {
      "cell_type": "markdown",
      "metadata": {
        "id": "K_O0fSHuh86q"
      },
      "source": [
        "# Generate Image Chips\n",
        "\n",
        "[![image](https://colab.research.google.com/assets/colab-badge.svg)](https://colab.research.google.com/github/opengeos/geoai/blob/main/docs/examples/image_chips.ipynb)\n",
        "\n",
        "## Install Package\n",
        "To use the `geoai-py` package, ensure it is installed in your environment. Uncomment the command below if needed."
      ]
    },
    {
      "cell_type": "code",
      "execution_count": null,
      "metadata": {
        "id": "eSS705dbh86r"
      },
      "outputs": [],
      "source": [
        "# %pip install geoai-py"
      ]
    },
    {
      "cell_type": "markdown",
      "metadata": {
        "id": "9DLYg4Wuh86s"
      },
      "source": [
        "## Import Packages"
      ]
    },
    {
      "cell_type": "code",
      "execution_count": null,
      "metadata": {
        "id": "SpcjdlnUh86s"
      },
      "outputs": [],
      "source": [
        "import geoai"
      ]
    },
    {
      "cell_type": "markdown",
      "metadata": {
        "id": "ZB76gt4Wh86s"
      },
      "source": [
        "## Download sample data"
      ]
    },
    {
      "cell_type": "code",
      "execution_count": null,
      "metadata": {
        "id": "k-O0yOkBh86s"
      },
      "outputs": [],
      "source": [
        "raster_url = (\n",
        "    \"https://huggingface.co/datasets/giswqs/geospatial/resolve/main/naip_train.tif\"\n",
        ")\n",
        "vector_url = \"https://huggingface.co/datasets/giswqs/geospatial/resolve/main/naip_train_buildings.geojson\""
      ]
    },
    {
      "cell_type": "code",
      "execution_count": null,
      "metadata": {
        "id": "uORlfbChh86s"
      },
      "outputs": [],
      "source": [
        "raster_path = geoai.download_file(raster_url)"
      ]
    },
    {
      "cell_type": "code",
      "execution_count": null,
      "metadata": {
        "id": "Nxnyvh61h86t"
      },
      "outputs": [],
      "source": [
        "vector_path = geoai.download_file(vector_url)"
      ]
    },
    {
      "cell_type": "markdown",
      "metadata": {
        "id": "Ca1Htlfdh86t"
      },
      "source": [
        "## Preview data"
      ]
    },
    {
      "cell_type": "code",
      "execution_count": null,
      "metadata": {
        "id": "ax5r1OXXh86t"
      },
      "outputs": [],
      "source": [
        "geoai.view_image(raster_path, figsize=(18, 10))"
      ]
    },
    {
      "cell_type": "code",
      "execution_count": null,
      "metadata": {
        "id": "HJ73k8Ieh86t"
      },
      "outputs": [],
      "source": [
        "geoai.view_vector(vector_path, basemap=True, alpha=0.5, figsize=(18, 10))"
      ]
    },
    {
      "cell_type": "code",
      "execution_count": null,
      "metadata": {
        "id": "uaxpE32uh86t"
      },
      "outputs": [],
      "source": [
        "geoai.view_vector_interactive(vector_path)"
      ]
    },
    {
      "cell_type": "markdown",
      "metadata": {
        "id": "djmS4S__h86t"
      },
      "source": [
        "## Convert vector to raster"
      ]
    },
    {
      "cell_type": "code",
      "execution_count": null,
      "metadata": {
        "id": "apyl2yTch86t"
      },
      "outputs": [],
      "source": [
        "output_path = vector_path.replace(\".geojson\", \".tif\")\n",
        "geoai.vector_to_raster(vector_path, output_path, reference_raster=raster_path)"
      ]
    },
    {
      "cell_type": "code",
      "execution_count": null,
      "metadata": {
        "id": "x396GIyth86t"
      },
      "outputs": [],
      "source": [
        "geoai.view_image(output_path, figsize=(18, 10))"
      ]
    },
    {
      "cell_type": "markdown",
      "metadata": {
        "id": "SaI4lYvTh86t"
      },
      "source": [
        "## Generate image chips"
      ]
    },
    {
      "cell_type": "code",
      "execution_count": null,
      "metadata": {
        "id": "4MVw3kSch86t"
      },
      "outputs": [],
      "source": [
        "tiles = geoai.export_geotiff_tiles(\n",
        "    in_raster=raster_path,\n",
        "    out_folder=\"output\",\n",
        "    in_class_data=vector_path,\n",
        "    tile_size=512,\n",
        "    stride=256,\n",
        "    buffer_radius=0,\n",
        "    create_overview=True,\n",
        "    quiet=True,\n",
        ")"
      ]
    },
    {
      "cell_type": "markdown",
      "metadata": {
        "id": "Q7fDkCFmh86t"
      },
      "source": [
        "## Preview image chips"
      ]
    },
    {
      "cell_type": "code",
      "execution_count": null,
      "metadata": {
        "id": "eU5A7rLCh86t"
      },
      "outputs": [],
      "source": [
        "geoai.view_image(\"output/overview.png\", figsize=(18, 10))"
      ]
    },
    {
      "cell_type": "code",
      "execution_count": null,
      "metadata": {
        "id": "BuKB8Q5sh86u"
      },
      "outputs": [],
      "source": [
        "geoai.view_image(\"output/images/tile_000000.tif\")"
      ]
    },
    {
      "cell_type": "code",
      "execution_count": null,
      "metadata": {
        "id": "uWzv6lykh86u"
      },
      "outputs": [],
      "source": [
        "geoai.view_image(\"output/labels/tile_000000.tif\")"
      ]
    },
    {
      "cell_type": "code",
      "execution_count": null,
      "metadata": {
        "id": "saYUet4-h86u"
      },
      "outputs": [],
      "source": [
        "geoai.view_image(\"output/images/tile_000001.tif\")"
      ]
    },
    {
      "cell_type": "code",
      "execution_count": null,
      "metadata": {
        "id": "l-UxzWQLh86u"
      },
      "outputs": [],
      "source": [
        "geoai.view_image(\"output/labels/tile_000001.tif\")"
      ]
    }
  ],
  "metadata": {
    "kernelspec": {
      "display_name": "torch",
      "language": "python",
      "name": "python3"
    },
    "language_info": {
      "codemirror_mode": {
        "name": "ipython",
        "version": 3
      },
      "file_extension": ".py",
      "mimetype": "text/x-python",
      "name": "python",
      "nbconvert_exporter": "python",
      "pygments_lexer": "ipython3",
      "version": "3.11.8"
    },
    "colab": {
      "provenance": []
    }
  },
  "nbformat": 4,
  "nbformat_minor": 0
}
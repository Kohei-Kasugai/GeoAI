{
  "cells": [
    {
      "cell_type": "markdown",
      "metadata": {
        "id": "lDVLLsBHWZxV"
      },
      "source": [
        "# View Metadata\n",
        "\n",
        "[![image](https://colab.research.google.com/assets/colab-badge.svg)](https://colab.research.google.com/github/opengeos/geoai/blob/main/docs/examples/view_metadata.ipynb)\n",
        "\n",
        "Install Package\n",
        "\n",
        "To use the `geoai-py` package, ensure it is installed in your environment. Uncomment the command below if needed."
      ]
    },
    {
      "cell_type": "code",
      "execution_count": null,
      "metadata": {
        "id": "ED1VSLi8WZxW"
      },
      "outputs": [],
      "source": [
        "# %pip install geoai-py"
      ]
    },
    {
      "cell_type": "markdown",
      "metadata": {
        "id": "LuLUNXUWWZxX"
      },
      "source": [
        "Import the package"
      ]
    },
    {
      "cell_type": "code",
      "execution_count": 5,
      "metadata": {
        "colab": {
          "base_uri": "https://localhost:8080/",
          "height": 333
        },
        "id": "Fr_YUdQgWZxX",
        "outputId": "e6595cd8-9f4f-4601-fe07-f4f553967271"
      },
      "outputs": [
        {
          "output_type": "error",
          "ename": "ModuleNotFoundError",
          "evalue": "No module named 'geoai'",
          "traceback": [
            "\u001b[0;31m---------------------------------------------------------------------------\u001b[0m",
            "\u001b[0;31mModuleNotFoundError\u001b[0m                       Traceback (most recent call last)",
            "\u001b[0;32m/tmp/ipython-input-5-76862300.py\u001b[0m in \u001b[0;36m<cell line: 0>\u001b[0;34m()\u001b[0m\n\u001b[0;32m----> 1\u001b[0;31m \u001b[0;32mimport\u001b[0m \u001b[0mgeoai\u001b[0m\u001b[0;34m\u001b[0m\u001b[0;34m\u001b[0m\u001b[0m\n\u001b[0m",
            "\u001b[0;31mModuleNotFoundError\u001b[0m: No module named 'geoai'",
            "",
            "\u001b[0;31m---------------------------------------------------------------------------\u001b[0;32m\nNOTE: If your import is failing due to a missing package, you can\nmanually install dependencies using either !pip or !apt.\n\nTo view examples of installing some common dependencies, click the\n\"Open Examples\" button below.\n\u001b[0;31m---------------------------------------------------------------------------\u001b[0m\n"
          ],
          "errorDetails": {
            "actions": [
              {
                "action": "open_url",
                "actionText": "Open Examples",
                "url": "/notebooks/snippets/importing_libraries.ipynb"
              }
            ]
          }
        }
      ],
      "source": [
        "import geoai"
      ]
    },
    {
      "cell_type": "markdown",
      "metadata": {
        "id": "S7iIregtWZxY"
      },
      "source": [
        "Define URLs for sample datasets: a NAIP imagery raster file and a building footprints vector file"
      ]
    },
    {
      "cell_type": "code",
      "execution_count": null,
      "metadata": {
        "id": "OEazXUU7WZxY"
      },
      "outputs": [],
      "source": [
        "raster_url = (\n",
        "    \"https://huggingface.co/datasets/giswqs/geospatial/resolve/main/naip_train.tif\"\n",
        ")\n",
        "vector_url = \"https://huggingface.co/datasets/giswqs/geospatial/resolve/main/naip_train_buildings.geojson\""
      ]
    },
    {
      "cell_type": "markdown",
      "metadata": {
        "id": "Ji8dyqTJWZxY"
      },
      "source": [
        "Download the raster file (NAIP imagery) and save it locally"
      ]
    },
    {
      "cell_type": "code",
      "execution_count": null,
      "metadata": {
        "id": "B26WFltRWZxY"
      },
      "outputs": [],
      "source": [
        "raster_path = geoai.download_file(raster_url)"
      ]
    },
    {
      "cell_type": "markdown",
      "metadata": {
        "id": "sHFSsUqmWZxY"
      },
      "source": [
        "Download the vector file (building footprints) and save it locally"
      ]
    },
    {
      "cell_type": "code",
      "execution_count": null,
      "metadata": {
        "id": "d9aCT69UWZxY"
      },
      "outputs": [],
      "source": [
        "vector_path = geoai.download_file(vector_url)"
      ]
    },
    {
      "cell_type": "markdown",
      "metadata": {
        "id": "AEF5LD4kWZxY"
      },
      "source": [
        "Display metadata about the raster file, including dimensions, resolution, projection, and bands"
      ]
    },
    {
      "cell_type": "code",
      "execution_count": null,
      "metadata": {
        "id": "1zyU9vU-WZxZ"
      },
      "outputs": [],
      "source": [
        "geoai.get_raster_info(raster_path)[\"band_stats\"]"
      ]
    },
    {
      "cell_type": "code",
      "execution_count": null,
      "metadata": {
        "id": "wFRinqczWZxZ"
      },
      "outputs": [],
      "source": [
        "geoai.print_raster_info(raster_path, figsize=(18, 10))"
      ]
    },
    {
      "cell_type": "markdown",
      "metadata": {
        "id": "X62mp0kPWZxZ"
      },
      "source": [
        "Display metadata about the vector file, including geometry type, feature count, extent, and attributes"
      ]
    },
    {
      "cell_type": "code",
      "execution_count": null,
      "metadata": {
        "id": "MLolGrfWWZxZ"
      },
      "outputs": [],
      "source": [
        "geoai.print_vector_info(vector_path, figsize=(18, 10))"
      ]
    },
    {
      "cell_type": "markdown",
      "metadata": {
        "id": "2DZmOVJ4WZxZ"
      },
      "source": [
        "Analyze the \"height\" attribute of buildings to obtain statistical information"
      ]
    },
    {
      "cell_type": "code",
      "execution_count": null,
      "metadata": {
        "id": "CLABjWyaWZxZ"
      },
      "outputs": [],
      "source": [
        "geoai.analyze_vector_attributes(vector_path, \"height\")"
      ]
    },
    {
      "cell_type": "markdown",
      "metadata": {
        "id": "20Ijo1U9WZxZ"
      },
      "source": [
        "Create a visualization of building footprints colored by their height values"
      ]
    },
    {
      "cell_type": "code",
      "execution_count": null,
      "metadata": {
        "id": "difNPDkEWZxZ"
      },
      "outputs": [],
      "source": [
        "geoai.visualize_vector_by_attribute(vector_path, \"height\")"
      ]
    },
    {
      "cell_type": "markdown",
      "metadata": {
        "id": "Zgqm-H7SWZxZ"
      },
      "source": [
        "Clip the raster file to a specified extent"
      ]
    },
    {
      "cell_type": "code",
      "execution_count": null,
      "metadata": {
        "id": "2XIBzkWkWZxZ"
      },
      "outputs": [],
      "source": [
        "clip_raster_path = \"naip_clip.tif\"\n",
        "geoai.clip_raster_by_bbox(\n",
        "    raster_path,\n",
        "    clip_raster_path,\n",
        "    bbox=(0, 0, 500, 500),\n",
        "    bands=[1, 2, 3],\n",
        "    bbox_type=\"pixel\",\n",
        ")"
      ]
    },
    {
      "cell_type": "code",
      "execution_count": null,
      "metadata": {
        "id": "qcHOZ1l8WZxZ"
      },
      "outputs": [],
      "source": [
        "geoai.view_image(clip_raster_path)"
      ]
    }
  ],
  "metadata": {
    "kernelspec": {
      "display_name": "geo",
      "language": "python",
      "name": "python3"
    },
    "language_info": {
      "codemirror_mode": {
        "name": "ipython",
        "version": 3
      },
      "file_extension": ".py",
      "mimetype": "text/x-python",
      "name": "python",
      "nbconvert_exporter": "python",
      "pygments_lexer": "ipython3",
      "version": "3.12.2"
    },
    "colab": {
      "provenance": []
    }
  },
  "nbformat": 4,
  "nbformat_minor": 0
}